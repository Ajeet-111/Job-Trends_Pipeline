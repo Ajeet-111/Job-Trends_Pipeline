{
 "cells": [
  {
   "cell_type": "code",
   "execution_count": 14,
   "id": "e7560743",
   "metadata": {},
   "outputs": [],
   "source": [
    "import pandas as pd"
   ]
  },
  {
   "cell_type": "code",
   "execution_count": null,
   "id": "9b0570c1",
   "metadata": {},
   "outputs": [
    {
     "name": "stdout",
     "output_type": "stream",
     "text": [
      "Defaulting to user installation because normal site-packages is not writeable\n",
      "Requirement already satisfied: kagglehub in c:\\users\\sootr\\appdata\\roaming\\python\\python312\\site-packages (0.3.12)\n",
      "Requirement already satisfied: packaging in c:\\users\\sootr\\appdata\\roaming\\python\\python312\\site-packages (from kagglehub) (24.0)\n",
      "Requirement already satisfied: pyyaml in c:\\users\\sootr\\appdata\\roaming\\python\\python312\\site-packages (from kagglehub) (6.0.2)\n",
      "Requirement already satisfied: requests in c:\\users\\sootr\\appdata\\roaming\\python\\python312\\site-packages (from kagglehub) (2.32.3)\n",
      "Requirement already satisfied: tqdm in c:\\users\\sootr\\appdata\\roaming\\python\\python312\\site-packages (from kagglehub) (4.66.5)\n",
      "Requirement already satisfied: charset-normalizer<4,>=2 in c:\\users\\sootr\\appdata\\roaming\\python\\python312\\site-packages (from requests->kagglehub) (3.3.2)\n",
      "Requirement already satisfied: idna<4,>=2.5 in c:\\users\\sootr\\appdata\\roaming\\python\\python312\\site-packages (from requests->kagglehub) (3.10)\n",
      "Requirement already satisfied: urllib3<3,>=1.21.1 in c:\\users\\sootr\\appdata\\roaming\\python\\python312\\site-packages (from requests->kagglehub) (2.5.0)\n",
      "Requirement already satisfied: certifi>=2017.4.17 in c:\\users\\sootr\\appdata\\roaming\\python\\python312\\site-packages (from requests->kagglehub) (2025.8.3)\n",
      "Requirement already satisfied: colorama in c:\\users\\sootr\\appdata\\roaming\\python\\python312\\site-packages (from tqdm->kagglehub) (0.4.6)\n",
      "Note: you may need to restart the kernel to use updated packages.\n"
     ]
    }
   ],
   "source": [
    "# pip install kagglehub"
   ]
  },
  {
   "cell_type": "code",
   "execution_count": null,
   "id": "de70ce6d",
   "metadata": {},
   "outputs": [
    {
     "name": "stdout",
     "output_type": "stream",
     "text": [
      "Path to dataset files: C:\\Users\\sootr\\.cache\\kagglehub\\datasets\\illuminate123\\job-trend-forecasting\\versions\\1\n"
     ]
    }
   ],
   "source": [
    "# import kagglehub\n",
    "\n",
    "# path = kagglehub.dataset_download(\"illuminate123/job-trend-forecasting\")\n",
    "\n",
    "# print(\"Path to dataset files:\", path)"
   ]
  },
  {
   "cell_type": "code",
   "execution_count": 323,
   "id": "604be583",
   "metadata": {},
   "outputs": [],
   "source": [
    "df = pd.read_csv(r\"A:\\coding\\Projects\\job-trends-pipeline\\data\\job_trend.csv\")"
   ]
  },
  {
   "cell_type": "code",
   "execution_count": 324,
   "id": "3f3887d7",
   "metadata": {},
   "outputs": [
    {
     "data": {
      "text/html": [
       "<div>\n",
       "<style scoped>\n",
       "    .dataframe tbody tr th:only-of-type {\n",
       "        vertical-align: middle;\n",
       "    }\n",
       "\n",
       "    .dataframe tbody tr th {\n",
       "        vertical-align: top;\n",
       "    }\n",
       "\n",
       "    .dataframe thead th {\n",
       "        text-align: right;\n",
       "    }\n",
       "</style>\n",
       "<table border=\"1\" class=\"dataframe\">\n",
       "  <thead>\n",
       "    <tr style=\"text-align: right;\">\n",
       "      <th></th>\n",
       "      <th>year</th>\n",
       "      <th>month</th>\n",
       "      <th>job_role</th>\n",
       "      <th>job_openings</th>\n",
       "      <th>avg_salary_usd</th>\n",
       "      <th>remote_pct</th>\n",
       "      <th>python_pct</th>\n",
       "      <th>aws_pct</th>\n",
       "      <th>gdp_growth</th>\n",
       "      <th>vc_funding_tech_bn</th>\n",
       "      <th>emerging_flag</th>\n",
       "    </tr>\n",
       "  </thead>\n",
       "  <tbody>\n",
       "    <tr>\n",
       "      <th>0</th>\n",
       "      <td>2020</td>\n",
       "      <td>1</td>\n",
       "      <td>Software Engineer</td>\n",
       "      <td>45000</td>\n",
       "      <td>92000</td>\n",
       "      <td>20</td>\n",
       "      <td>80</td>\n",
       "      <td>40</td>\n",
       "      <td>2.1</td>\n",
       "      <td>50.2</td>\n",
       "      <td>0</td>\n",
       "    </tr>\n",
       "    <tr>\n",
       "      <th>1</th>\n",
       "      <td>2020</td>\n",
       "      <td>1</td>\n",
       "      <td>Data Scientist</td>\n",
       "      <td>12500</td>\n",
       "      <td>105000</td>\n",
       "      <td>25</td>\n",
       "      <td>90</td>\n",
       "      <td>50</td>\n",
       "      <td>2.1</td>\n",
       "      <td>50.2</td>\n",
       "      <td>0</td>\n",
       "    </tr>\n",
       "    <tr>\n",
       "      <th>2</th>\n",
       "      <td>2020</td>\n",
       "      <td>1</td>\n",
       "      <td>DevOps Engineer</td>\n",
       "      <td>8200</td>\n",
       "      <td>110000</td>\n",
       "      <td>30</td>\n",
       "      <td>70</td>\n",
       "      <td>85</td>\n",
       "      <td>2.1</td>\n",
       "      <td>50.2</td>\n",
       "      <td>0</td>\n",
       "    </tr>\n",
       "    <tr>\n",
       "      <th>3</th>\n",
       "      <td>2020</td>\n",
       "      <td>1</td>\n",
       "      <td>Cybersecurity Analyst</td>\n",
       "      <td>6800</td>\n",
       "      <td>98000</td>\n",
       "      <td>15</td>\n",
       "      <td>50</td>\n",
       "      <td>30</td>\n",
       "      <td>2.1</td>\n",
       "      <td>50.2</td>\n",
       "      <td>0</td>\n",
       "    </tr>\n",
       "    <tr>\n",
       "      <th>4</th>\n",
       "      <td>2020</td>\n",
       "      <td>1</td>\n",
       "      <td>AI Research Scientist</td>\n",
       "      <td>3500</td>\n",
       "      <td>135000</td>\n",
       "      <td>10</td>\n",
       "      <td>95</td>\n",
       "      <td>40</td>\n",
       "      <td>2.1</td>\n",
       "      <td>50.2</td>\n",
       "      <td>1</td>\n",
       "    </tr>\n",
       "  </tbody>\n",
       "</table>\n",
       "</div>"
      ],
      "text/plain": [
       "   year  month               job_role  job_openings  avg_salary_usd  \\\n",
       "0  2020      1      Software Engineer         45000           92000   \n",
       "1  2020      1         Data Scientist         12500          105000   \n",
       "2  2020      1        DevOps Engineer          8200          110000   \n",
       "3  2020      1  Cybersecurity Analyst          6800           98000   \n",
       "4  2020      1  AI Research Scientist          3500          135000   \n",
       "\n",
       "   remote_pct  python_pct  aws_pct  gdp_growth  vc_funding_tech_bn  \\\n",
       "0          20          80       40         2.1                50.2   \n",
       "1          25          90       50         2.1                50.2   \n",
       "2          30          70       85         2.1                50.2   \n",
       "3          15          50       30         2.1                50.2   \n",
       "4          10          95       40         2.1                50.2   \n",
       "\n",
       "   emerging_flag  \n",
       "0              0  \n",
       "1              0  \n",
       "2              0  \n",
       "3              0  \n",
       "4              1  "
      ]
     },
     "execution_count": 324,
     "metadata": {},
     "output_type": "execute_result"
    }
   ],
   "source": [
    "df.head()"
   ]
  },
  {
   "cell_type": "code",
   "execution_count": 325,
   "id": "6f5415cc",
   "metadata": {},
   "outputs": [
    {
     "data": {
      "text/plain": [
       "year                  0\n",
       "month                 0\n",
       "job_role              0\n",
       "job_openings          0\n",
       "avg_salary_usd        0\n",
       "remote_pct            0\n",
       "python_pct            0\n",
       "aws_pct               0\n",
       "gdp_growth            0\n",
       "vc_funding_tech_bn    0\n",
       "emerging_flag         0\n",
       "dtype: int64"
      ]
     },
     "execution_count": 325,
     "metadata": {},
     "output_type": "execute_result"
    }
   ],
   "source": [
    "df.isna().sum()"
   ]
  },
  {
   "cell_type": "code",
   "execution_count": null,
   "id": "566d0d85",
   "metadata": {},
   "outputs": [],
   "source": []
  },
  {
   "cell_type": "code",
   "execution_count": null,
   "id": "e3bfb054",
   "metadata": {},
   "outputs": [],
   "source": []
  },
  {
   "cell_type": "code",
   "execution_count": null,
   "id": "ed3f776d",
   "metadata": {},
   "outputs": [],
   "source": []
  },
  {
   "cell_type": "code",
   "execution_count": null,
   "id": "299cac20",
   "metadata": {},
   "outputs": [],
   "source": []
  },
  {
   "cell_type": "code",
   "execution_count": null,
   "id": "c03c8a4c",
   "metadata": {},
   "outputs": [],
   "source": []
  },
  {
   "cell_type": "code",
   "execution_count": null,
   "id": "c4126803",
   "metadata": {},
   "outputs": [],
   "source": []
  },
  {
   "cell_type": "code",
   "execution_count": null,
   "id": "0a403af0",
   "metadata": {},
   "outputs": [],
   "source": []
  }
 ],
 "metadata": {
  "kernelspec": {
   "display_name": "Python 3",
   "language": "python",
   "name": "python3"
  },
  "language_info": {
   "codemirror_mode": {
    "name": "ipython",
    "version": 3
   },
   "file_extension": ".py",
   "mimetype": "text/x-python",
   "name": "python",
   "nbconvert_exporter": "python",
   "pygments_lexer": "ipython3",
   "version": "3.12.0"
  }
 },
 "nbformat": 4,
 "nbformat_minor": 5
}
